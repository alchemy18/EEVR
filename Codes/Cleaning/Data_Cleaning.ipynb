{
 "cells": [
  {
   "cell_type": "code",
   "execution_count": null,
   "id": "579a756d",
   "metadata": {},
   "outputs": [],
   "source": [
    "import pandas as pd\n",
    "import numpy as np\n",
    "import os\n",
    "import plotly.express as px\n",
    "import plotly.graph_objects as go\n",
    "from plotly.subplots import make_subplots\n",
    "import cvxEDA.src.cvxEDA as cvxEDA\n",
    "from itertools import product\n",
    "from tqdm import tqdm\n",
    "from scipy.stats import pearsonr\n",
    "from scipy.stats import skew\n",
    "from scipy.stats import kurtosis\n",
    "import warnings\n",
    "\n",
    "# Use the warnings filter to suppress specific warnings\n",
    "warnings.filterwarnings(\"ignore\")"
   ]
  },
  {
   "cell_type": "code",
   "execution_count": null,
   "id": "86b4a141",
   "metadata": {},
   "outputs": [],
   "source": [
    "from scipy.stats.mstats import winsorize\n",
    "import neurokit2 as nk\n",
    "import heartpy as hp"
   ]
  },
  {
   "cell_type": "code",
   "execution_count": null,
   "id": "2417aa4c",
   "metadata": {},
   "outputs": [],
   "source": [
    "Label = ['0_Baseline_Baseline','V1_LVLA_The Displaced', 'V2_LVLA_Happyland 360',\n",
    "       'V3_LVHA_Jailbreak 360', 'V4_LVHA_War Knows No Nation',\n",
    "       'V5_HVHA_Canyon Swing', 'V6_HVLA_Redwoods Walk Among Giants',\n",
    "       'V7_HVHA_Speed Flying', 'V8_HVLA_Instant Caribbean Vacation',\n",
    "       'V1_LVLA_The Nepal Earthquake Aftermath',\n",
    "       'V2_LVHA_Zombie Apocalypse Horror', 'V3_LVLA_Abandoned building',\n",
    "       'V4_LVHA_Kidnapped', 'V5_HVHA_Mega Coaster',\n",
    "       'V6_HVLA_Malaekahana Sunrise',\n",
    "       'V7_HVHA_Puppies host SourceFed for a day',\n",
    "       'V8_HVLA_Great Ocean Road', 'V1_LVHA_War Knows No Nation',\n",
    "       'V2_HVLA_Redwoods Walk Among Giants', 'V3_LVLA_Happyland 360',\n",
    "       'V4_HVHA_Speed Flying', 'V5_HVLA_Instant Caribbean Vacation',\n",
    "       'V6_LVHA_Jailbreak 360', 'V7_LVLA_The Displaced',\n",
    "       'V8_HVHA_Canyon Swing', 'V1_LVHA_Kidnapped',\n",
    "       'V2_HVLA_Malaekahana Sunrise', 'V3_LVHA_Zombie Apocalypse Horror',\n",
    "       'V4_HVHA_Puppies host SourceFed for a day',\n",
    "       'V5_HVLA_Great Ocean Road', 'V6_LVLA_Abandoned building',\n",
    "       'V7_LVLA_The Nepal Earthquake Aftermath', 'V8_HVHA_Mega Coaster']\n",
    "\n",
    "lst = ['p1','p3','p2','p4']\n",
    "\n",
    "fs_dict = {'EDA': 15.625, 'PPG': 125}"
   ]
  },
  {
   "cell_type": "code",
   "execution_count": null,
   "id": "dbf2b341",
   "metadata": {},
   "outputs": [],
   "source": [
    "vads = pd.read_csv(\"VADS.csv\")\n",
    "vads"
   ]
  },
  {
   "cell_type": "markdown",
   "id": "e626f298",
   "metadata": {},
   "source": [
    "# Data Cleaning"
   ]
  },
  {
   "cell_type": "code",
   "execution_count": null,
   "id": "974788c5",
   "metadata": {},
   "outputs": [],
   "source": [
    "ppg_df = pd.DataFrame()\n",
    "eda_df = pd.DataFrame()"
   ]
  },
  {
   "cell_type": "code",
   "execution_count": null,
   "id": "5bafc648",
   "metadata": {},
   "outputs": [],
   "source": [
    "for playlist in lst:\n",
    "    temp1 = pd.read_csv(f\"PPG/{playlist}.csv\")\n",
    "    temp1['playlist_id']=playlist\n",
    "    ppg_df = ppg_df.append(temp1,ignore_index=True)\n",
    "ppg_df"
   ]
  },
  {
   "cell_type": "code",
   "execution_count": null,
   "id": "eda4e210",
   "metadata": {},
   "outputs": [],
   "source": [
    "ppg_df['id'].unique().shape"
   ]
  },
  {
   "cell_type": "code",
   "execution_count": null,
   "id": "1f9b4e84",
   "metadata": {},
   "outputs": [],
   "source": [
    "ppg_df[ppg_df['id']=='p18']['label'].unique()"
   ]
  },
  {
   "cell_type": "code",
   "execution_count": null,
   "id": "aeacfe1e",
   "metadata": {},
   "outputs": [],
   "source": [
    "for playlist in lst:\n",
    "    temp1 = pd.read_csv(f\"EDA/{playlist}.csv\")\n",
    "    temp1['playlist_id']=playlist\n",
    "    eda_df = eda_df.append(temp1,ignore_index=True)\n",
    "eda_df"
   ]
  },
  {
   "cell_type": "code",
   "execution_count": null,
   "id": "7fc27703",
   "metadata": {},
   "outputs": [],
   "source": [
    "eda_df['id'].unique().shape"
   ]
  },
  {
   "cell_type": "code",
   "execution_count": null,
   "id": "79b87325",
   "metadata": {},
   "outputs": [],
   "source": [
    "eda_df[eda_df['id']=='p18']['label'].unique()"
   ]
  },
  {
   "cell_type": "code",
   "execution_count": null,
   "id": "3ddd9629",
   "metadata": {},
   "outputs": [],
   "source": [
    "#removing error, discard and interview data\n",
    "print(ppg_df['label'].unique().shape)\n",
    "ppg_df['label'].unique()"
   ]
  },
  {
   "cell_type": "code",
   "execution_count": null,
   "id": "f2195d34",
   "metadata": {},
   "outputs": [],
   "source": [
    "#removing error, discard and interview data\n",
    "print(eda_df['label'].unique().shape)\n",
    "eda_df['label'].unique()"
   ]
  },
  {
   "cell_type": "code",
   "execution_count": null,
   "id": "7b14400b",
   "metadata": {},
   "outputs": [],
   "source": [
    "rest_lst = ['rest1', 'rest2', 'rest3', 'rest4', 'rest5', 'rest6', 'rest7', 'rest8', 'rest', 'rest9']\n",
    " \n",
    "error_list = ['error', 'error_eda', 'errorcheck', 'discard1', 'discard2','eda disconnected', 'error1', 'Segment 1']\n",
    "\n",
    "vr_familiarity = ['vrfamiliarity', 'vrfamiliriaty', 'VR Familiarity', 'vrfamiarity', 'vrfamirity']\n",
    "\n",
    "baseline = ['baseline', 'baseline ', 'baseline 2']\n",
    "\n",
    "extra_data = ['rollercoaster', 'interview']  \n",
    "\n",
    "eda_df['label'] = eda_df['label'].replace(rest_lst, 'rest')\n",
    "eda_df['label'] = eda_df['label'].replace(error_list, 'error')\n",
    "eda_df['label'] = eda_df['label'].replace(vr_familiarity, 'VRfamiliarity')\n",
    "eda_df['label'] = eda_df['label'].replace(baseline, '0_Baseline_Baseline')\n",
    "eda_df['label'] = eda_df['label'].replace(extra_data, 'rest')\n",
    "eda_df['label'] = eda_df['label'].replace(' V8_HVLA_Great Ocean Road', 'V8_HVLA_Great Ocean Road')\n",
    "eda_df['label'] = eda_df['label'].replace('V5_HVHA_Canyon Swing_1', 'V5_HVHA_Canyon Swing')\n",
    "eda_df['label'] = eda_df['label'].replace('V2_HVLA_Redwoods Walk Among Giants,', 'V2_HVLA_Redwoods Walk Among Giants')\n",
    "eda_df['label'] = eda_df['label'].replace('V2_HVLA_Redwoods Walk Among Giants_1', 'V2_HVLA_Redwoods Walk Among Giants')\n",
    "eda_df['label'] = eda_df['label'].replace('V8_HVHA_Mega Coaster_1', 'V8_HVHA_Mega Coaster')\n",
    "\n",
    "eda_df['label'].unique().shape"
   ]
  },
  {
   "cell_type": "code",
   "execution_count": null,
   "id": "9dcfa5af",
   "metadata": {},
   "outputs": [],
   "source": [
    "eda_df['label'].unique()"
   ]
  },
  {
   "cell_type": "code",
   "execution_count": null,
   "id": "06ba4a04",
   "metadata": {},
   "outputs": [],
   "source": [
    "ppg_df['label'] = ppg_df['label'].replace(rest_lst, 'rest')\n",
    "ppg_df['label'] = ppg_df['label'].replace(error_list, 'error')\n",
    "ppg_df['label'] = ppg_df['label'].replace(vr_familiarity, 'VRfamiliarity')\n",
    "ppg_df['label'] = ppg_df['label'].replace(baseline, '0_Baseline_Baseline')\n",
    "ppg_df['label'] = ppg_df['label'].replace(extra_data, 'rest')\n",
    "ppg_df['label'] = ppg_df['label'].replace(' V8_HVLA_Great Ocean Road', 'V8_HVLA_Great Ocean Road')\n",
    "ppg_df['label'] = ppg_df['label'].replace('V5_HVHA_Canyon Swing_1', 'V5_HVHA_Canyon Swing')\n",
    "ppg_df['label'] = ppg_df['label'].replace('V2_HVLA_Redwoods Walk Among Giants,', 'V2_HVLA_Redwoods Walk Among Giants')\n",
    "ppg_df['label'] = ppg_df['label'].replace('V2_HVLA_Redwoods Walk Among Giants_1', 'V2_HVLA_Redwoods Walk Among Giants')\n",
    "ppg_df['label'] = ppg_df['label'].replace('V8_HVHA_Mega Coaster_1', 'V8_HVHA_Mega Coaster')"
   ]
  },
  {
   "cell_type": "code",
   "execution_count": null,
   "id": "59d01e09",
   "metadata": {},
   "outputs": [],
   "source": [
    "ppg_df['label'].unique().shape"
   ]
  },
  {
   "cell_type": "code",
   "execution_count": null,
   "id": "86d56fb4",
   "metadata": {},
   "outputs": [],
   "source": [
    "ppg_df['label'].unique()"
   ]
  },
  {
   "cell_type": "code",
   "execution_count": null,
   "id": "f330bd69",
   "metadata": {},
   "outputs": [],
   "source": [
    "temp_df = pd.DataFrame(eda_df)\n",
    "\n",
    "# Splitting the label column based on separator '_'\n",
    "separator = '_'\n",
    "split_columns = temp_df['label'].str.split(separator, expand=True)\n",
    "# print(split_columns)\n",
    "\n",
    "# Rename the new columns\n",
    "new_columns = ['Video ID', 'CMA', 'Video Name']\n",
    "split_columns.columns = new_columns\n",
    "\n",
    "# Combine the split columns with the original DataFrame\n",
    "eda_df = pd.concat([eda_df, split_columns], axis=1)\n",
    "eda_df"
   ]
  },
  {
   "cell_type": "code",
   "execution_count": null,
   "id": "d37a6f62",
   "metadata": {},
   "outputs": [],
   "source": [
    "temp_df1 = pd.DataFrame(ppg_df)\n",
    "\n",
    "# Splitting the label column based on separator '_'\n",
    "separator = '_'\n",
    "split_columns1 = temp_df1['label'].str.split(separator, expand=True)\n",
    "# print(split_columns1)\n",
    "\n",
    "# Rename the new columns\n",
    "new_columns1 = ['Video ID', 'CMA', 'Video Name']\n",
    "split_columns1.columns = new_columns1\n",
    "\n",
    "# Combine the split columns with the original DataFrame\n",
    "ppg_df = pd.concat([ppg_df, split_columns1], axis=1)\n",
    "ppg_df"
   ]
  },
  {
   "cell_type": "code",
   "execution_count": null,
   "id": "93f20755",
   "metadata": {},
   "outputs": [],
   "source": [
    "eda_df.columns = ['Time', 'EDA', 'Label','Participant ID' , 'Gender', 'Playlist ID', 'Video ID', 'CMA', 'VideoName'] \n",
    "eda_df"
   ]
  },
  {
   "cell_type": "code",
   "execution_count": null,
   "id": "3658e6d0",
   "metadata": {},
   "outputs": [],
   "source": [
    "eda_df['Participant ID'].unique().shape"
   ]
  },
  {
   "cell_type": "code",
   "execution_count": null,
   "id": "30ec0bc6",
   "metadata": {},
   "outputs": [],
   "source": [
    "ppg_df.columns = ['Time', 'BPM', 'PPG', 'IBI', 'Label','Participant ID' , 'Gender', 'Playlist ID', 'Video ID', 'CMA', 'VideoName']\n",
    "ppg_df"
   ]
  },
  {
   "cell_type": "code",
   "execution_count": null,
   "id": "ffb7a5f7",
   "metadata": {},
   "outputs": [],
   "source": [
    "ppg_df['Participant ID'].unique().shape"
   ]
  },
  {
   "cell_type": "code",
   "execution_count": null,
   "id": "e468f9e5",
   "metadata": {},
   "outputs": [],
   "source": [
    "eda_df['Participant ID'] = eda_df['Participant ID'].apply(lambda x: int(x.split('p')[1]) if x.startswith('p') else x)\n",
    "eda_df['Participant ID'].unique()"
   ]
  },
  {
   "cell_type": "code",
   "execution_count": null,
   "id": "3256e203",
   "metadata": {},
   "outputs": [],
   "source": [
    "eda_df['Playlist ID'] = eda_df['Playlist ID'].apply(lambda x: int(x.split('p')[1]) if x.startswith('p') else x)\n",
    "eda_df['Playlist ID'].unique()"
   ]
  },
  {
   "cell_type": "code",
   "execution_count": null,
   "id": "0c68ab81",
   "metadata": {},
   "outputs": [],
   "source": [
    "eda_df['Gender'] = eda_df['Gender'].apply(lambda x: 'Male' if x.startswith('b') else 'Female')\n",
    "eda_df"
   ]
  },
  {
   "cell_type": "code",
   "execution_count": null,
   "id": "86842c0a",
   "metadata": {},
   "outputs": [],
   "source": [
    "eda_df['Participant ID'].unique()"
   ]
  },
  {
   "cell_type": "code",
   "execution_count": null,
   "id": "2fd1a5c7",
   "metadata": {},
   "outputs": [],
   "source": [
    "ppg_df['Participant ID'] = ppg_df['Participant ID'].apply(lambda x: int(x.split('p')[1]) if x.startswith('p') else x)\n",
    "ppg_df['Playlist ID'] = ppg_df['Playlist ID'].apply(lambda x: int(x.split('p')[1]) if x.startswith('p') else x)\n",
    "ppg_df['Gender'] = ppg_df['Gender'].apply(lambda x: 'Male' if x.startswith('b') else 'Female')\n",
    "ppg_df['Participant ID'].unique()"
   ]
  },
  {
   "cell_type": "code",
   "execution_count": null,
   "id": "f9c28d04",
   "metadata": {
    "scrolled": true
   },
   "outputs": [],
   "source": [
    "ppg_df"
   ]
  },
  {
   "cell_type": "code",
   "execution_count": null,
   "id": "3d2f0c15",
   "metadata": {},
   "outputs": [],
   "source": [
    "# code to replace anamoly with participant average value\n",
    "min_bpm = 35\n",
    "max_bpm = 140\n",
    "# Group the DataFrame by participant\n",
    "grouped = ppg_df.groupby('Participant ID')\n",
    "\n",
    "# Replace values outside the range with participant-wise average\n",
    "for participant, group_df in grouped:\n",
    "#     print(participant)\n",
    "    filtered_group = group_df[(group_df['BPM'] >= min_bpm) & (group_df['BPM'] <= max_bpm)]\n",
    "    average_bpm = filtered_group['BPM'].mean()\n",
    "    ppg_df.loc[(ppg_df['Participant ID'] == participant) &\n",
    "                ((ppg_df['BPM'] < min_bpm) | (ppg_df['BPM'] > max_bpm)), 'BPM'] = average_bpm"
   ]
  },
  {
   "cell_type": "code",
   "execution_count": null,
   "id": "a5f612ba",
   "metadata": {},
   "outputs": [],
   "source": [
    "ppg_df['BPM'].describe()"
   ]
  },
  {
   "cell_type": "code",
   "execution_count": null,
   "id": "14d3ab86",
   "metadata": {},
   "outputs": [],
   "source": [
    "ppg_df.to_csv(\"PPG.csv\",index=False)"
   ]
  },
  {
   "cell_type": "code",
   "execution_count": null,
   "id": "dfceea2c",
   "metadata": {},
   "outputs": [],
   "source": [
    "# code to replace anamoly with participant average value\n",
    "min_EDA = 0\n",
    "max_EDA = 60\n",
    "# Group the DataFrame by participant\n",
    "grouped = eda_df.groupby('Participant ID')\n",
    "\n",
    "# Replace values outside the range with participant-wise average\n",
    "for participant, group_df in grouped:\n",
    "#     print(participant)\n",
    "    filtered_group = group_df[(group_df['EDA'] >= min_EDA) & (group_df['EDA'] <= max_EDA)]\n",
    "    eda_df.loc[(eda_df['Participant ID'] == participant) &\n",
    "                ((eda_df['EDA'] < min_EDA) | (eda_df['EDA'] > max_EDA)), 'EDA'] = 0"
   ]
  },
  {
   "cell_type": "code",
   "execution_count": null,
   "id": "4d0c4e47",
   "metadata": {},
   "outputs": [],
   "source": [
    "eda_df['EDA'].describe()"
   ]
  },
  {
   "cell_type": "code",
   "execution_count": null,
   "id": "c5d1df76",
   "metadata": {},
   "outputs": [],
   "source": [
    "eda_df.to_csv(\"EDA.csv\",index=False)"
   ]
  },
  {
   "cell_type": "code",
   "execution_count": null,
   "id": "36a341b1",
   "metadata": {},
   "outputs": [],
   "source": []
  }
 ],
 "metadata": {
  "kernelspec": {
   "display_name": "Python 3 (ipykernel)",
   "language": "python",
   "name": "python3"
  },
  "language_info": {
   "codemirror_mode": {
    "name": "ipython",
    "version": 3
   },
   "file_extension": ".py",
   "mimetype": "text/x-python",
   "name": "python",
   "nbconvert_exporter": "python",
   "pygments_lexer": "ipython3",
   "version": "3.8.10"
  }
 },
 "nbformat": 4,
 "nbformat_minor": 5
}
